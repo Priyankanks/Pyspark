{
 "cells": [
  {
   "cell_type": "code",
   "execution_count": 19,
   "metadata": {
    "colab": {
     "base_uri": "https://localhost:8080/"
    },
    "id": "A5gmcN22SRat",
    "outputId": "16738b49-043c-4878-d1fc-6905bdc93537"
   },
   "outputs": [
    {
     "name": "stdout",
     "output_type": "stream",
     "text": [
      "Requirement already satisfied: pyspark in /usr/local/lib/python3.7/dist-packages (3.1.2)\n",
      "Requirement already satisfied: py4j==0.10.9 in /usr/local/lib/python3.7/dist-packages (from pyspark) (0.10.9)\n"
     ]
    }
   ],
   "source": [
    "!pip install pyspark\n",
    "import pyspark"
   ]
  },
  {
   "cell_type": "code",
   "execution_count": 20,
   "metadata": {
    "id": "kKdskG6JSdxl"
   },
   "outputs": [],
   "source": [
    "from pyspark.sql import SparkSession"
   ]
  },
  {
   "cell_type": "code",
   "execution_count": 21,
   "metadata": {
    "id": "X4BMVP7rTWvN"
   },
   "outputs": [],
   "source": [
    "spark = SparkSession.builder.appName('Dataframe').getOrCreate()"
   ]
  },
  {
   "cell_type": "code",
   "execution_count": 22,
   "metadata": {
    "id": "8fu-5Ly0Thca"
   },
   "outputs": [],
   "source": [
    "df_spark = spark.read.csv('/content/drive/MyDrive/Data_Science/Pyspark/test2.csv', header = True, inferSchema= True)"
   ]
  },
  {
   "cell_type": "code",
   "execution_count": 23,
   "metadata": {
    "colab": {
     "base_uri": "https://localhost:8080/"
    },
    "id": "fZJPrvRDjHwI",
    "outputId": "7dfc1abf-a21d-4493-f0c1-9809867010b2"
   },
   "outputs": [
    {
     "name": "stdout",
     "output_type": "stream",
     "text": [
      "+---------+----+----------+------+\n",
      "|     Name| age|Experience|Salary|\n",
      "+---------+----+----------+------+\n",
      "|    Krish|  31|        10| 30000|\n",
      "|Sudhanshu|  30|         8| 25000|\n",
      "|    Sunny|  29|         4| 20000|\n",
      "|     Paul|  24|         3| 20000|\n",
      "|   Harsha|  21|         1| 15000|\n",
      "|  Shubham|  23|         2| 18000|\n",
      "|   Mahesh|null|      null| 40000|\n",
      "|     null|  34|        10| 38000|\n",
      "|     null|  36|      null|  null|\n",
      "+---------+----+----------+------+\n",
      "\n"
     ]
    }
   ],
   "source": [
    "df_spark.show()"
   ]
  },
  {
   "cell_type": "code",
   "execution_count": 24,
   "metadata": {
    "colab": {
     "base_uri": "https://localhost:8080/"
    },
    "id": "zO_rzrajiYeI",
    "outputId": "8d412126-2256-4dd9-abf5-3514a506dac0"
   },
   "outputs": [
    {
     "name": "stdout",
     "output_type": "stream",
     "text": [
      "root\n",
      " |-- Name: string (nullable = true)\n",
      " |-- age: integer (nullable = true)\n",
      " |-- Experience: integer (nullable = true)\n",
      " |-- Salary: integer (nullable = true)\n",
      "\n"
     ]
    }
   ],
   "source": [
    "df_spark.printSchema()"
   ]
  },
  {
   "cell_type": "code",
   "execution_count": 25,
   "metadata": {
    "id": "JE9j3Jf1ihYj"
   },
   "outputs": [],
   "source": [
    "# Add the columns\n",
    "\n",
    "df_spark = df_spark.withColumn('Experience after 2 years', df_spark['Experience']+2)"
   ]
  },
  {
   "cell_type": "code",
   "execution_count": 26,
   "metadata": {
    "colab": {
     "base_uri": "https://localhost:8080/"
    },
    "id": "yCfAWpUll102",
    "outputId": "8e10a578-05bc-4266-e011-27eece8daf27"
   },
   "outputs": [
    {
     "name": "stdout",
     "output_type": "stream",
     "text": [
      "+---------+----+----------+------+------------------------+\n",
      "|     Name| age|Experience|Salary|Experience after 2 years|\n",
      "+---------+----+----------+------+------------------------+\n",
      "|    Krish|  31|        10| 30000|                      12|\n",
      "|Sudhanshu|  30|         8| 25000|                      10|\n",
      "|    Sunny|  29|         4| 20000|                       6|\n",
      "|     Paul|  24|         3| 20000|                       5|\n",
      "|   Harsha|  21|         1| 15000|                       3|\n",
      "|  Shubham|  23|         2| 18000|                       4|\n",
      "|   Mahesh|null|      null| 40000|                    null|\n",
      "|     null|  34|        10| 38000|                      12|\n",
      "|     null|  36|      null|  null|                    null|\n",
      "+---------+----+----------+------+------------------------+\n",
      "\n"
     ]
    }
   ],
   "source": [
    "df_spark.show()"
   ]
  },
  {
   "cell_type": "code",
   "execution_count": 27,
   "metadata": {
    "id": "woeQI115mFvq"
   },
   "outputs": [],
   "source": [
    "df_spark = df_spark.drop('Experience after 2 years')"
   ]
  },
  {
   "cell_type": "code",
   "execution_count": 28,
   "metadata": {
    "colab": {
     "base_uri": "https://localhost:8080/"
    },
    "id": "4r7WOYUSmgzI",
    "outputId": "9b246608-0127-48ad-d5b9-9931db7134b4"
   },
   "outputs": [
    {
     "name": "stdout",
     "output_type": "stream",
     "text": [
      "+---------+----+----------+------+\n",
      "|     Name| age|Experience|Salary|\n",
      "+---------+----+----------+------+\n",
      "|    Krish|  31|        10| 30000|\n",
      "|Sudhanshu|  30|         8| 25000|\n",
      "|    Sunny|  29|         4| 20000|\n",
      "|     Paul|  24|         3| 20000|\n",
      "|   Harsha|  21|         1| 15000|\n",
      "|  Shubham|  23|         2| 18000|\n",
      "|   Mahesh|null|      null| 40000|\n",
      "|     null|  34|        10| 38000|\n",
      "|     null|  36|      null|  null|\n",
      "+---------+----+----------+------+\n",
      "\n"
     ]
    }
   ],
   "source": [
    "df_spark.show()"
   ]
  },
  {
   "cell_type": "code",
   "execution_count": 29,
   "metadata": {
    "colab": {
     "base_uri": "https://localhost:8080/"
    },
    "id": "gxcSTIFPmioz",
    "outputId": "9db424c9-98e0-4355-a616-aae62a6a731b"
   },
   "outputs": [
    {
     "name": "stdout",
     "output_type": "stream",
     "text": [
      "+---------+---+----------+------+\n",
      "|     Name|age|Experience|Salary|\n",
      "+---------+---+----------+------+\n",
      "|    Krish| 31|        10| 30000|\n",
      "|Sudhanshu| 30|         8| 25000|\n",
      "|    Sunny| 29|         4| 20000|\n",
      "|     Paul| 24|         3| 20000|\n",
      "|   Harsha| 21|         1| 15000|\n",
      "|  Shubham| 23|         2| 18000|\n",
      "+---------+---+----------+------+\n",
      "\n"
     ]
    }
   ],
   "source": [
    "# Drop the null values\n",
    "\n",
    "df_spark.na.drop().show()"
   ]
  },
  {
   "cell_type": "code",
   "execution_count": 30,
   "metadata": {
    "colab": {
     "base_uri": "https://localhost:8080/"
    },
    "id": "g6NrhnOLm6hz",
    "outputId": "168417da-e179-4bee-b3d5-3caad33acf63"
   },
   "outputs": [
    {
     "name": "stdout",
     "output_type": "stream",
     "text": [
      "+---------+----+----------+------+\n",
      "|     Name| age|Experience|Salary|\n",
      "+---------+----+----------+------+\n",
      "|    Krish|  31|        10| 30000|\n",
      "|Sudhanshu|  30|         8| 25000|\n",
      "|    Sunny|  29|         4| 20000|\n",
      "|     Paul|  24|         3| 20000|\n",
      "|   Harsha|  21|         1| 15000|\n",
      "|  Shubham|  23|         2| 18000|\n",
      "|   Mahesh|null|      null| 40000|\n",
      "|     null|  34|        10| 38000|\n",
      "+---------+----+----------+------+\n",
      "\n"
     ]
    }
   ],
   "source": [
    "# how = 'any' or 'all\n",
    "#If 'any', drop a row if it contains any nulls.\n",
    "#If 'all', drop a row only if all its values are null.\n",
    "#Threshold will check with column rows more than 2 nulls will be removed\n",
    "\n",
    "df_spark.na.drop(how = 'any', thresh= 2).show()"
   ]
  },
  {
   "cell_type": "code",
   "execution_count": 31,
   "metadata": {
    "id": "OB71Ms3IrII4"
   },
   "outputs": [],
   "source": [
    "# Subset\n",
    "# Removes null from Age\n",
    "\n",
    "df_spark = df_spark.na.drop(how = 'any', subset=['Age'])"
   ]
  },
  {
   "cell_type": "code",
   "execution_count": 31,
   "metadata": {
    "id": "a0Jw0pBA9meH"
   },
   "outputs": [],
   "source": [
    "df_spark"
   ]
  },
  {
   "cell_type": "code",
   "execution_count": 37,
   "metadata": {
    "colab": {
     "base_uri": "https://localhost:8080/"
    },
    "id": "-3u4NTppr7K9",
    "outputId": "89982fd8-f8f5-4988-839a-59b836a8b10b"
   },
   "outputs": [
    {
     "name": "stdout",
     "output_type": "stream",
     "text": [
      "+--------------+---+----------+------+\n",
      "|          Name|age|Experience|Salary|\n",
      "+--------------+---+----------+------+\n",
      "|         Krish| 31|        10| 30000|\n",
      "|     Sudhanshu| 30|         8| 25000|\n",
      "|         Sunny| 29|         4| 20000|\n",
      "|          Paul| 24|         3| 20000|\n",
      "|        Harsha| 21|         1| 15000|\n",
      "|       Shubham| 23|         2| 18000|\n",
      "|Missing Values| 34|        10| 38000|\n",
      "|Missing Values| 36|      null|  null|\n",
      "+--------------+---+----------+------+\n",
      "\n"
     ]
    }
   ],
   "source": [
    "# Filling null values\n",
    "\n",
    "df_spark.na.fill('Missing Values', ['Name','Experience','Salary']).show()"
   ]
  },
  {
   "cell_type": "code",
   "execution_count": 38,
   "metadata": {
    "colab": {
     "base_uri": "https://localhost:8080/"
    },
    "id": "47oyvY-osqZi",
    "outputId": "3bf9403e-96cc-4d9f-ab0c-2eee47876ba7"
   },
   "outputs": [
    {
     "name": "stdout",
     "output_type": "stream",
     "text": [
      "+---------+---+----------+------+\n",
      "|     Name|age|Experience|Salary|\n",
      "+---------+---+----------+------+\n",
      "|    Krish| 31|        10| 30000|\n",
      "|Sudhanshu| 30|         8| 25000|\n",
      "|    Sunny| 29|         4| 20000|\n",
      "|     Paul| 24|         3| 20000|\n",
      "|   Harsha| 21|         1| 15000|\n",
      "|  Shubham| 23|         2| 18000|\n",
      "|     null| 34|        10| 38000|\n",
      "|     null| 36|      null|  null|\n",
      "+---------+---+----------+------+\n",
      "\n"
     ]
    }
   ],
   "source": [
    "df_spark.show()"
   ]
  },
  {
   "cell_type": "code",
   "execution_count": 39,
   "metadata": {
    "id": "KhDVY4Ct_QhY"
   },
   "outputs": [],
   "source": [
    "from pyspark.ml.feature import Imputer\n",
    "\n",
    "# Imputation estimator for completing missing values,\n",
    "# using the mean, median or mode of the columns in which the missing values are located.\n",
    "# All Null values in the input columns are treated as missing, and so are also imputed.\n",
    "\n",
    "imputer = Imputer(\n",
    "    inputCols = ['age', 'Experience', 'Salary'],\n",
    "    outputCols = [\"{}_imputed\".format(c) for c in ['age', 'Experience', 'Salary']]).setStrategy('median')"
   ]
  },
  {
   "cell_type": "code",
   "execution_count": 40,
   "metadata": {
    "colab": {
     "base_uri": "https://localhost:8080/"
    },
    "id": "tPIgfKE_IQaV",
    "outputId": "be7e80da-3862-4f7b-de77-82e4a16ed910"
   },
   "outputs": [
    {
     "name": "stdout",
     "output_type": "stream",
     "text": [
      "+---------+---+----------+------+-----------+------------------+--------------+\n",
      "|     Name|age|Experience|Salary|age_imputed|Experience_imputed|Salary_imputed|\n",
      "+---------+---+----------+------+-----------+------------------+--------------+\n",
      "|    Krish| 31|        10| 30000|         31|                10|         30000|\n",
      "|Sudhanshu| 30|         8| 25000|         30|                 8|         25000|\n",
      "|    Sunny| 29|         4| 20000|         29|                 4|         20000|\n",
      "|     Paul| 24|         3| 20000|         24|                 3|         20000|\n",
      "|   Harsha| 21|         1| 15000|         21|                 1|         15000|\n",
      "|  Shubham| 23|         2| 18000|         23|                 2|         18000|\n",
      "|     null| 34|        10| 38000|         34|                10|         38000|\n",
      "|     null| 36|      null|  null|         36|                 4|         20000|\n",
      "+---------+---+----------+------+-----------+------------------+--------------+\n",
      "\n"
     ]
    }
   ],
   "source": [
    "# Add imputation columns to df\n",
    "\n",
    "imputer.fit(df_spark).transform(df_spark).show()"
   ]
  },
  {
   "cell_type": "code",
   "execution_count": null,
   "metadata": {
    "id": "IRwTubD2IhGT"
   },
   "outputs": [],
   "source": []
  }
 ],
 "metadata": {
  "colab": {
   "collapsed_sections": [],
   "name": "Pyspark-Handling_Missing_Values.ipynb",
   "provenance": []
  },
  "kernelspec": {
   "display_name": "Python 3",
   "language": "python",
   "name": "python3"
  },
  "language_info": {
   "codemirror_mode": {
    "name": "ipython",
    "version": 3
   },
   "file_extension": ".py",
   "mimetype": "text/x-python",
   "name": "python",
   "nbconvert_exporter": "python",
   "pygments_lexer": "ipython3",
   "version": "3.8.5"
  }
 },
 "nbformat": 4,
 "nbformat_minor": 1
}
